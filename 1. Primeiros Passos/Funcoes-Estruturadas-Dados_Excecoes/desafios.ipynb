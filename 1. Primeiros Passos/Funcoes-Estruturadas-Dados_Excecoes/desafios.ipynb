{
 "cells": [
  {
   "cell_type": "markdown",
   "metadata": {},
   "source": []
  },
  {
   "cell_type": "markdown",
   "metadata": {},
   "source": [
    "## Aquecimento\n"
   ]
  },
  {
   "cell_type": "markdown",
   "metadata": {},
   "source": [
    "1. Escreva um código para instalar a versão 3.7.1 da biblioteca matplotlib.\n",
    "2. Escreva um código para importar a biblioteca numpy com o alias np.\n",
    "3. Crie um programa que leia a seguinte lista de números e escolha um número desta aleatoriamente.\n",
    "\n",
    "```python\n",
    "lista = [8, 12, 54, 23, 43, 1, 90, 87, 105, 77]\n",
    "```\n",
    "\n"
   ]
  },
  {
   "cell_type": "code",
   "execution_count": 1,
   "metadata": {},
   "outputs": [
    {
     "name": "stdout",
     "output_type": "stream",
     "text": [
      "Requirement already satisfied: numpy<2.0.0 in c:\\users\\marce\\appdata\\local\\packages\\pythonsoftwarefoundation.python.3.11_qbz5n2kfra8p0\\localcache\\local-packages\\python311\\site-packages (1.26.4)Note: you may need to restart the kernel to use updated packages.\n"
     ]
    },
    {
     "name": "stderr",
     "output_type": "stream",
     "text": [
      "ERROR: Could not install packages due to an OSError: [WinError 5] Acesso negado: 'c:\\\\users\\\\marce\\\\appdata\\\\local\\\\packages\\\\pythonsoftwarefoundation.python.3.11_qbz5n2kfra8p0\\\\localcache\\\\local-packages\\\\python311\\\\site-packages\\\\matplotlib\\\\backends\\\\_backend_agg.cp311-win_amd64.pyd'\n",
      "Check the permissions.\n",
      "\n",
      "WARNING: Ignoring invalid distribution ~atplotlib (C:\\Users\\marce\\AppData\\Local\\Packages\\PythonSoftwareFoundation.Python.3.11_qbz5n2kfra8p0\\LocalCache\\local-packages\\Python311\\site-packages)\n",
      "WARNING: Ignoring invalid distribution ~atplotlib (C:\\Users\\marce\\AppData\\Local\\Packages\\PythonSoftwareFoundation.Python.3.11_qbz5n2kfra8p0\\LocalCache\\local-packages\\Python311\\site-packages)\n",
      "WARNING: Ignoring invalid distribution ~atplotlib (C:\\Users\\marce\\AppData\\Local\\Packages\\PythonSoftwareFoundation.Python.3.11_qbz5n2kfra8p0\\LocalCache\\local-packages\\Python311\\site-packages)\n",
      "\n",
      "[notice] A new release of pip is available: 24.0 -> 24.3.1\n",
      "[notice] To update, run: C:\\Users\\marce\\AppData\\Local\\Microsoft\\WindowsApps\\PythonSoftwareFoundation.Python.3.11_qbz5n2kfra8p0\\python.exe -m pip install --upgrade pip\n"
     ]
    },
    {
     "name": "stdout",
     "output_type": "stream",
     "text": [
      "\n",
      "Collecting matplotlib==3.7.1\n",
      "  Downloading matplotlib-3.7.1-cp311-cp311-win_amd64.whl.metadata (5.8 kB)\n",
      "Requirement already satisfied: contourpy>=1.0.1 in c:\\users\\marce\\appdata\\local\\packages\\pythonsoftwarefoundation.python.3.11_qbz5n2kfra8p0\\localcache\\local-packages\\python311\\site-packages (from matplotlib==3.7.1) (1.3.1)\n",
      "Requirement already satisfied: cycler>=0.10 in c:\\users\\marce\\appdata\\local\\packages\\pythonsoftwarefoundation.python.3.11_qbz5n2kfra8p0\\localcache\\local-packages\\python311\\site-packages (from matplotlib==3.7.1) (0.12.1)\n",
      "Requirement already satisfied: fonttools>=4.22.0 in c:\\users\\marce\\appdata\\local\\packages\\pythonsoftwarefoundation.python.3.11_qbz5n2kfra8p0\\localcache\\local-packages\\python311\\site-packages (from matplotlib==3.7.1) (4.55.6)\n",
      "Requirement already satisfied: kiwisolver>=1.0.1 in c:\\users\\marce\\appdata\\local\\packages\\pythonsoftwarefoundation.python.3.11_qbz5n2kfra8p0\\localcache\\local-packages\\python311\\site-packages (from matplotlib==3.7.1) (1.4.8)\n",
      "Requirement already satisfied: packaging>=20.0 in c:\\users\\marce\\appdata\\local\\packages\\pythonsoftwarefoundation.python.3.11_qbz5n2kfra8p0\\localcache\\local-packages\\python311\\site-packages (from matplotlib==3.7.1) (24.2)\n",
      "Requirement already satisfied: pillow>=6.2.0 in c:\\users\\marce\\appdata\\local\\packages\\pythonsoftwarefoundation.python.3.11_qbz5n2kfra8p0\\localcache\\local-packages\\python311\\site-packages (from matplotlib==3.7.1) (11.0.0)\n",
      "Requirement already satisfied: pyparsing>=2.3.1 in c:\\users\\marce\\appdata\\local\\packages\\pythonsoftwarefoundation.python.3.11_qbz5n2kfra8p0\\localcache\\local-packages\\python311\\site-packages (from matplotlib==3.7.1) (3.2.1)\n",
      "Requirement already satisfied: python-dateutil>=2.7 in c:\\users\\marce\\appdata\\local\\packages\\pythonsoftwarefoundation.python.3.11_qbz5n2kfra8p0\\localcache\\local-packages\\python311\\site-packages (from matplotlib==3.7.1) (2.9.0.post0)\n",
      "Requirement already satisfied: six>=1.5 in c:\\users\\marce\\appdata\\local\\packages\\pythonsoftwarefoundation.python.3.11_qbz5n2kfra8p0\\localcache\\local-packages\\python311\\site-packages (from python-dateutil>=2.7->matplotlib==3.7.1) (1.17.0)\n",
      "Downloading matplotlib-3.7.1-cp311-cp311-win_amd64.whl (7.6 MB)\n",
      "   ---------------------------------------- 0.0/7.6 MB ? eta -:--:--\n",
      "   -- ------------------------------------- 0.5/7.6 MB 16.2 MB/s eta 0:00:01\n",
      "   ----- ---------------------------------- 1.1/7.6 MB 13.8 MB/s eta 0:00:01\n",
      "   -------- ------------------------------- 1.6/7.6 MB 12.9 MB/s eta 0:00:01\n",
      "   ----------- ---------------------------- 2.2/7.6 MB 12.5 MB/s eta 0:00:01\n",
      "   -------------- ------------------------- 2.7/7.6 MB 12.3 MB/s eta 0:00:01\n",
      "   ---------------- ----------------------- 3.2/7.6 MB 12.1 MB/s eta 0:00:01\n",
      "   ------------------- -------------------- 3.8/7.6 MB 12.1 MB/s eta 0:00:01\n",
      "   ---------------------- ----------------- 4.3/7.6 MB 12.0 MB/s eta 0:00:01\n",
      "   ------------------------- -------------- 4.8/7.6 MB 12.4 MB/s eta 0:00:01\n",
      "   ---------------------------- ----------- 5.4/7.6 MB 11.9 MB/s eta 0:00:01\n",
      "   ------------------------------- -------- 5.9/7.6 MB 12.2 MB/s eta 0:00:01\n",
      "   ---------------------------------- ----- 6.5/7.6 MB 12.2 MB/s eta 0:00:01\n",
      "   ------------------------------------ --- 7.0/7.6 MB 12.1 MB/s eta 0:00:01\n",
      "   ---------------------------------------  7.6/7.6 MB 11.8 MB/s eta 0:00:01\n",
      "   ---------------------------------------  7.6/7.6 MB 11.9 MB/s eta 0:00:01\n",
      "   ---------------------------------------  7.6/7.6 MB 11.9 MB/s eta 0:00:01\n",
      "   ---------------------------------------  7.6/7.6 MB 11.9 MB/s eta 0:00:01\n",
      "   ---------------------------------------  7.6/7.6 MB 11.9 MB/s eta 0:00:01\n",
      "   ---------------------------------------  7.6/7.6 MB 11.9 MB/s eta 0:00:01\n",
      "   ---------------------------------------  7.6/7.6 MB 11.9 MB/s eta 0:00:01\n",
      "   ---------------------------------------  7.6/7.6 MB 11.9 MB/s eta 0:00:01\n",
      "   ---------------------------------------  7.6/7.6 MB 11.9 MB/s eta 0:00:01\n",
      "   ---------------------------------------  7.6/7.6 MB 11.9 MB/s eta 0:00:01\n",
      "   ---------------------------------------  7.6/7.6 MB 11.9 MB/s eta 0:00:01\n",
      "   ---------------------------------------  7.6/7.6 MB 11.9 MB/s eta 0:00:01\n",
      "   ---------------------------------------  7.6/7.6 MB 11.9 MB/s eta 0:00:01\n",
      "   ---------------------------------------  7.6/7.6 MB 11.9 MB/s eta 0:00:01\n",
      "   ---------------------------------------  7.6/7.6 MB 11.9 MB/s eta 0:00:01\n",
      "   ---------------------------------------  7.6/7.6 MB 11.9 MB/s eta 0:00:01\n",
      "   ---------------------------------------  7.6/7.6 MB 11.9 MB/s eta 0:00:01\n",
      "   ---------------------------------------  7.6/7.6 MB 11.9 MB/s eta 0:00:01\n",
      "   ---------------------------------------  7.6/7.6 MB 11.9 MB/s eta 0:00:01\n",
      "   ---------------------------------------  7.6/7.6 MB 11.9 MB/s eta 0:00:01\n",
      "   ---------------------------------------  7.6/7.6 MB 11.9 MB/s eta 0:00:01\n",
      "   ---------------------------------------  7.6/7.6 MB 11.9 MB/s eta 0:00:01\n",
      "   ---------------------------------------  7.6/7.6 MB 11.9 MB/s eta 0:00:01\n",
      "   ---------------------------------------  7.6/7.6 MB 11.9 MB/s eta 0:00:01\n",
      "   ---------------------------------------  7.6/7.6 MB 11.9 MB/s eta 0:00:01\n",
      "   ---------------------------------------  7.6/7.6 MB 11.9 MB/s eta 0:00:01\n",
      "   ---------------------------------------  7.6/7.6 MB 11.9 MB/s eta 0:00:01\n",
      "   ---------------------------------------  7.6/7.6 MB 11.9 MB/s eta 0:00:01\n",
      "   ---------------------------------------  7.6/7.6 MB 11.9 MB/s eta 0:00:01\n",
      "   ---------------------------------------  7.6/7.6 MB 11.9 MB/s eta 0:00:01\n",
      "   ---------------------------------------  7.6/7.6 MB 11.9 MB/s eta 0:00:01\n",
      "   ---------------------------------------  7.6/7.6 MB 11.9 MB/s eta 0:00:01\n",
      "   ---------------------------------------  7.6/7.6 MB 11.9 MB/s eta 0:00:01\n",
      "   ---------------------------------------  7.6/7.6 MB 11.9 MB/s eta 0:00:01\n",
      "   ---------------------------------------  7.6/7.6 MB 11.9 MB/s eta 0:00:01\n",
      "   ---------------------------------------  7.6/7.6 MB 11.9 MB/s eta 0:00:01\n",
      "   ---------------------------------------  7.6/7.6 MB 11.9 MB/s eta 0:00:01\n",
      "   ---------------------------------------  7.6/7.6 MB 11.9 MB/s eta 0:00:01\n",
      "   ---------------------------------------  7.6/7.6 MB 11.9 MB/s eta 0:00:01\n",
      "   ---------------------------------------  7.6/7.6 MB 11.9 MB/s eta 0:00:01\n",
      "   ---------------------------------------  7.6/7.6 MB 11.9 MB/s eta 0:00:01\n",
      "   ---------------------------------------  7.6/7.6 MB 11.9 MB/s eta 0:00:01\n",
      "   ---------------------------------------  7.6/7.6 MB 11.9 MB/s eta 0:00:01\n",
      "   ---------------------------------------  7.6/7.6 MB 11.9 MB/s eta 0:00:01\n",
      "   ---------------------------------------  7.6/7.6 MB 11.9 MB/s eta 0:00:01\n",
      "   ---------------------------------------  7.6/7.6 MB 11.9 MB/s eta 0:00:01\n",
      "   ---------------------------------------  7.6/7.6 MB 11.9 MB/s eta 0:00:01\n",
      "   ---------------------------------------  7.6/7.6 MB 11.9 MB/s eta 0:00:01\n",
      "   ---------------------------------------  7.6/7.6 MB 11.9 MB/s eta 0:00:01\n",
      "   ---------------------------------------  7.6/7.6 MB 11.9 MB/s eta 0:00:01\n",
      "   ---------------------------------------  7.6/7.6 MB 11.9 MB/s eta 0:00:01\n",
      "   ---------------------------------------  7.6/7.6 MB 11.9 MB/s eta 0:00:01\n",
      "   ---------------------------------------  7.6/7.6 MB 11.9 MB/s eta 0:00:01\n",
      "   ---------------------------------------- 7.6/7.6 MB 2.3 MB/s eta 0:00:00\n",
      "Installing collected packages: matplotlib\n",
      "  Attempting uninstall: matplotlib\n",
      "    Found existing installation: matplotlib 3.6.2\n",
      "    Uninstalling matplotlib-3.6.2:\n"
     ]
    }
   ],
   "source": [
    "%pip install \"numpy<2.0.0\" \"matplotlib==3.7.1\"\n"
   ]
  },
  {
   "cell_type": "code",
   "execution_count": 3,
   "metadata": {},
   "outputs": [],
   "source": [
    "import numpy as np"
   ]
  },
  {
   "cell_type": "code",
   "execution_count": 4,
   "metadata": {},
   "outputs": [],
   "source": [
    "lista = [8, 12, 54, 23, 43, 1, 90, 87, 105, 77]"
   ]
  },
  {
   "cell_type": "code",
   "execution_count": 7,
   "metadata": {},
   "outputs": [
    {
     "name": "stdout",
     "output_type": "stream",
     "text": [
      "0\n"
     ]
    }
   ],
   "source": [
    "from random import randrange\n",
    "print(randrange(5))"
   ]
  },
  {
   "cell_type": "code",
   "execution_count": 8,
   "metadata": {},
   "outputs": [],
   "source": [
    "from math import pow"
   ]
  },
  {
   "cell_type": "code",
   "execution_count": 11,
   "metadata": {},
   "outputs": [
    {
     "name": "stdout",
     "output_type": "stream",
     "text": [
      "4\n"
     ]
    }
   ],
   "source": [
    "n1 = int(input(\"Insira dois números: \"))\n",
    "n2 = int(input())\n",
    "\n",
    "print(int(pow(n1, n2)))"
   ]
  },
  {
   "cell_type": "markdown",
   "metadata": {},
   "source": [
    "<hr>"
   ]
  },
  {
   "cell_type": "markdown",
   "metadata": {},
   "source": [
    "6. Um programa deve ser escrito para sortear uma pessoa seguidora de uma rede social para ganhar um prêmio. A lista de participantes é numerada e devemos escolher aleatoriamente um número de acordo com a quantidade de participantes. Peça à pessoa usuária para fornecer o número de participantes do sorteio e devolva para ela o número sorteado.\n"
   ]
  },
  {
   "cell_type": "code",
   "execution_count": 13,
   "metadata": {},
   "outputs": [
    {
     "name": "stdout",
     "output_type": "stream",
     "text": [
      "A pessoa sorteada foi a de número 29\n"
     ]
    }
   ],
   "source": [
    "ps = int(input(\"Insira quantas pessoas serão sorteadas: \"))\n",
    "\n",
    "print(f'A pessoa sorteada foi a de número {randrange(1, ps)}')"
   ]
  },
  {
   "cell_type": "markdown",
   "metadata": {},
   "source": [
    "7. Você recebeu uma demanda para gerar números de token para acessar o aplicativo de uma empresa. O token precisa ser par e variar de 1000 até 9998. Escreva um código que solicita à pessoa usuária o seu nome e exibe uma mensagem junto a esse token gerado aleatoriamente."
   ]
  },
  {
   "cell_type": "code",
   "execution_count": 14,
   "metadata": {},
   "outputs": [
    {
     "name": "stdout",
     "output_type": "stream",
     "text": [
      "Olá, Marcelo, o seu token de acesso é 5110! Seja bem-vindo(a)!\n"
     ]
    }
   ],
   "source": [
    "nome = str(input(\"Insira o seu nome: \"))\n",
    "def token():\n",
    "    par = False\n",
    "    while par == False:\n",
    "        temp_token = randrange(1000, 9998)\n",
    "        if temp_token % 2 == 0:\n",
    "            par = True\n",
    "            return temp_token\n",
    "        else:\n",
    "            pass\n",
    "    return \n",
    "\n",
    "print(f'Olá, {nome}, o seu token de acesso é {token()}! Seja bem-vindo(a)!')"
   ]
  },
  {
   "cell_type": "markdown",
   "metadata": {},
   "source": [
    "8. Para diversificar e atrair novos(as) clientes, uma lanchonete criou um item misterioso em seu cardápio chamado \"salada de frutas surpresa\". Neste item, são escolhidas aleatoriamente 3 frutas de uma lista de 12 para compor a salada de frutas da pessoa cliente. Crie o código que faça essa seleção aleatória de acordo com a lista abaixo:"
   ]
  },
  {
   "cell_type": "code",
   "execution_count": 15,
   "metadata": {},
   "outputs": [],
   "source": [
    "frutas = [\"maçã\", \"banana\", \"uva\", \"pêra\", \n",
    "          \"manga\", \"coco\", \"melancia\", \"mamão\",\n",
    "          \"laranja\", \"abacaxi\", \"kiwi\", \"ameixa\"]"
   ]
  },
  {
   "cell_type": "code",
   "execution_count": 18,
   "metadata": {},
   "outputs": [],
   "source": [
    "def sortea_fruta():\n",
    "    salada_surpresa = []\n",
    "    for i in range(3):\n",
    "        salada_surpresa.append(frutas[randrange(0, 12)])\n",
    "    return salada_surpresa"
   ]
  },
  {
   "cell_type": "code",
   "execution_count": 20,
   "metadata": {},
   "outputs": [
    {
     "name": "stdout",
     "output_type": "stream",
     "text": [
      "As frutas sorteadas foram: banana, kiwi, pêra\n"
     ]
    }
   ],
   "source": [
    "frutas_sorteadas = sortea_fruta()\n",
    "print(f'As frutas sorteadas foram: {\", \".join(frutas_sorteadas)}')"
   ]
  },
  {
   "cell_type": "markdown",
   "metadata": {},
   "source": [
    "9. Você recebeu um desafio de calcular a raiz quadrada de uma lista de números, identificando quais resultaram em um número inteiro. A lista é a seguinte:\n",
    "\n"
   ]
  },
  {
   "cell_type": "code",
   "execution_count": 5,
   "metadata": {},
   "outputs": [],
   "source": [
    "numeros = [2, 8, 15, 23, 91, 112, 256]\n",
    "\n",
    "from math import sqrt"
   ]
  },
  {
   "cell_type": "code",
   "execution_count": 1,
   "metadata": {},
   "outputs": [],
   "source": [
    "\n",
    "def verifica_inteiro(numeros):\n",
    "    obj_numerico = {}\n",
    "    for i in range(0, len(numeros)):\n",
    "        raiz = sqrt(numeros[i])\n",
    "        if raiz // 1 == raiz:\n",
    "            obj_numerico[numeros[i]] = raiz\n",
    "        else:\n",
    "            pass\n",
    "    return obj_numerico"
   ]
  },
  {
   "cell_type": "code",
   "execution_count": 6,
   "metadata": {},
   "outputs": [
    {
     "name": "stdout",
     "output_type": "stream",
     "text": [
      "Os números inteiros são: (256, 16.0)\n"
     ]
    }
   ],
   "source": [
    "print(f'Os números inteiros são: {\", \".join(map(str, verifica_inteiro(numeros).items()))}')"
   ]
  },
  {
   "cell_type": "markdown",
   "metadata": {},
   "source": [
    "10. Faça um programa para uma loja que vende grama para jardins. Essa loja trabalha com jardins circulares e o preço do metro quadrado da grama é de R$ 25,00. Peça à pessoa usuária o raio da área circular e devolva o valor em reais do quanto precisará pagar.\n",
    "\n",
    "Dica: use a variável pi e o método pow() da biblioteca math. O cálculo da área de um círculo é de: A = π*r^2 (lê-se pi vezes raio ao quadrado)."
   ]
  },
  {
   "cell_type": "code",
   "execution_count": 7,
   "metadata": {},
   "outputs": [],
   "source": [
    "from math import pow, pi\n",
    "\n",
    "def calcular_area_circulo(raio):\n",
    "    area = pi * (raio ** 2)\n",
    "    return area"
   ]
  },
  {
   "cell_type": "code",
   "execution_count": 8,
   "metadata": {},
   "outputs": [
    {
     "name": "stdout",
     "output_type": "stream",
     "text": [
      "O valor de 12.57m² ficou em R$314.16\n"
     ]
    }
   ],
   "source": [
    "raio = float(input(\"Insira o raio do círculo em metros: \"))\n",
    "area = calcular_area_circulo(raio)\n",
    "custo = area * 25\n",
    "\n",
    "print(f'O valor de {area:.2f}m² ficou em R${custo:.2f}')"
   ]
  },
  {
   "cell_type": "markdown",
   "metadata": {},
   "source": [
    "## Desafio 02\n",
    "- A leitura do tamanho da lista\n",
    "- A leitura do maior e menor valor\n",
    "- A soma dos valores da lista\n",
    "Ao final exiba uma mensagem dizendo:\n",
    "\n",
    "\"A lista possui [tam] números em que o maior número é [maior] e o menor número é [menor]. A soma dos valores presentes nela é igual a [soma]\""
   ]
  },
  {
   "cell_type": "code",
   "execution_count": 1,
   "metadata": {},
   "outputs": [],
   "source": [
    "lista = [16, 14, 63, 65, 17, 99, 70, 11, 20, 48, 79, 32, 17, 89, 12, 25, 66]"
   ]
  },
  {
   "cell_type": "code",
   "execution_count": 2,
   "metadata": {},
   "outputs": [],
   "source": [
    "tamanho = len(lista)\n",
    "maior = max(lista)\n",
    "menor = min(lista)\n",
    "soma = sum(lista)"
   ]
  },
  {
   "cell_type": "code",
   "execution_count": 3,
   "metadata": {},
   "outputs": [
    {
     "name": "stdout",
     "output_type": "stream",
     "text": [
      "A lista possui 17 números em que o maior número é 99 e o menor número é 11. A soma dos valores presentes nela é igual a 743\n"
     ]
    }
   ],
   "source": [
    "print(f'A lista possui {tamanho} números em que o maior número é {maior} e o menor número é {menor}. A soma dos valores presentes nela é igual a {soma}')"
   ]
  },
  {
   "cell_type": "markdown",
   "metadata": {},
   "source": [
    "2. Escreva uma função que gere a tabuada de um número inteiro de 1 a 10, de acordo com a escolha da pessoa usuária. Como exemplo, para o número 7, a tabuada deve ser mostrada no seguinte formato:\n",
    "\n"
   ]
  },
  {
   "cell_type": "code",
   "execution_count": 5,
   "metadata": {},
   "outputs": [
    {
     "name": "stdout",
     "output_type": "stream",
     "text": [
      "10 x 1 = 10\n",
      "10 x 2 = 20\n",
      "10 x 3 = 30\n",
      "10 x 4 = 40\n",
      "10 x 5 = 50\n",
      "10 x 6 = 60\n",
      "10 x 7 = 70\n",
      "10 x 8 = 80\n",
      "10 x 9 = 90\n",
      "10 x 10 = 100\n"
     ]
    }
   ],
   "source": [
    "numero = int(input(\"Insira um número: \"))\n",
    "\n",
    "tabuada = lambda x : [x * i for i in range(1,11)]\n",
    "\n",
    "resultado = tabuada(numero)\n",
    "\n",
    "for i in range(1, 11):\n",
    "    print(f'{numero} x {i} = {resultado[i-1]}')"
   ]
  },
  {
   "cell_type": "markdown",
   "metadata": {},
   "source": [
    "3. Crie a função que leia a lista abaixo e retorne uma nova lista com os múltiplos de 3:\n",
    "\n"
   ]
  },
  {
   "cell_type": "code",
   "execution_count": 6,
   "metadata": {},
   "outputs": [],
   "source": [
    "lista = [97, 80, 94, 88, 80, 1, 16, 53, 62, 32, 24, 99]"
   ]
  },
  {
   "cell_type": "code",
   "execution_count": 8,
   "metadata": {},
   "outputs": [
    {
     "name": "stdout",
     "output_type": "stream",
     "text": [
      "Os números múltiplos de 3 presentes na lista são: 24, 99\n"
     ]
    }
   ],
   "source": [
    "def mult_3(lista : list) -> list:\n",
    "    lista_mult = []\n",
    "    for i in range(0, len(lista)):\n",
    "        if lista[i] % 3 == 0:\n",
    "            lista_mult.append(lista[i])\n",
    "        else:\n",
    "            pass\n",
    "    return lista_mult\n",
    "\n",
    "print(f'Os números múltiplos de 3 presentes na lista são: {\", \".join(map(str, mult_3(lista)))}')"
   ]
  },
  {
   "cell_type": "markdown",
   "metadata": {},
   "source": [
    "4. Crie uma lista dos quadrados dos números da seguinte lista [1, 2, 3, 4, 5, 6, 7, 8, 9, 10]. Lembre-se de utilizar as funções lambda e map() para calcular o quadrado de cada elemento da lista.\n",
    "\n"
   ]
  },
  {
   "cell_type": "code",
   "execution_count": 9,
   "metadata": {},
   "outputs": [],
   "source": [
    "lista = [1, 2, 3, 4, 5, 6, 7, 8, 9, 10]"
   ]
  },
  {
   "cell_type": "code",
   "execution_count": 12,
   "metadata": {},
   "outputs": [
    {
     "data": {
      "text/plain": [
       "[1, 4, 9, 16, 25, 36, 49, 64, 81, 100]"
      ]
     },
     "execution_count": 12,
     "metadata": {},
     "output_type": "execute_result"
    }
   ],
   "source": [
    "quadrado = list(map(lambda x : x ** 2, lista))\n",
    "quadrado\n"
   ]
  },
  {
   "cell_type": "markdown",
   "metadata": {},
   "source": [
    "## Aplicando a projetos\n",
    "5. Você foi contratado(a) como cientista de dados de uma associação de skate. Para analisar as notas recebidas de skatistas em algumas competições ao longo do ano, você precisa criar um código que calcula a pontuação dos(as) atletas. Para isso, o seu código deve receber 5 notas digitadas pelas pessoas juradas.\n",
    "\n",
    "Para calcular a pontuação de um(a) skatista, você precisa eliminar a maior e a menor pontuação dentre as 5 notas e tirar a média das 3 notas que sobraram. Retorne a média para apresentar o texto:"
   ]
  },
  {
   "cell_type": "code",
   "execution_count": 14,
   "metadata": {},
   "outputs": [
    {
     "name": "stdout",
     "output_type": "stream",
     "text": [
      "A média das notas é: 9.00\n"
     ]
    }
   ],
   "source": [
    "nota_jurados = lambda : [float(input(f'Insira a nota do jurado {i+1}: ')) for i in range(5)]\n",
    "\n",
    "def calculo(lista : list) -> float:\n",
    "    lista.remove(max(lista))\n",
    "    lista.remove(min(lista))\n",
    "    return sum(lista) / len(lista)\n",
    "\n",
    "notas = nota_jurados()\n",
    "media = calculo(notas)\n",
    "print(f'A média das notas é: {media:.2f}')"
   ]
  },
  {
   "cell_type": "markdown",
   "metadata": {},
   "source": [
    "7. Você recebeu uma demanda para tratar 2 listas com os nomes e sobrenomes de cada estudante concatenando-as para apresentar seus nomes completos na forma Nome Sobrenome. As listas são:\n",
    "\n"
   ]
  },
  {
   "cell_type": "code",
   "execution_count": 15,
   "metadata": {},
   "outputs": [],
   "source": [
    "nomes = [\"joão\", \"MaRia\", \"JOSÉ\"]\n",
    "sobrenomes = [\"SILVA\", \"souza\", \"Tavares\"]"
   ]
  },
  {
   "cell_type": "code",
   "execution_count": 22,
   "metadata": {},
   "outputs": [
    {
     "name": "stdout",
     "output_type": "stream",
     "text": [
      "['João Silva', 'Maria Souza', 'José Tavares']\n"
     ]
    }
   ],
   "source": [
    "lista_nome = list(map(lambda x, y: x + \" \" + y.capitalize(), nomes, sobrenomes))\n",
    "print(lista_nome)"
   ]
  },
  {
   "cell_type": "markdown",
   "metadata": {},
   "source": [
    "9. Você recebeu o desafio de criar um código que calcula os gastos de uma viagem para um das quatro cidades partindo de Recife, sendo elas: Salvador, Fortaleza, Natal e Aracaju.\n",
    "\n",
    "O custo da diária do hotel é de 150 reais em todas elas e o consumo de gasolina na viagem de carro é de 14 km/l, sendo que o valor da gasolina é de 5 reais o litro. O gastos com passeios e alimentação a se fazer em cada uma delas por dia seria de [200, 400, 250, 300], respectivamente.\n",
    "\n",
    "Sabendo que as distâncias entre Recife e cada uma das cidades é de aproximadamente [850, 800, 300, 550] km, crie três funções nas quais: a 1ª função calcule os gastos com hotel (gasto_hotel), a 2ª calcule os gastos com a gasolina (gasto_gasolina) e a 3ª os gastos com passeio e alimentação (gasto_passeio).\n",
    "\n",
    "Para testar, simule uma viagem de 3 dias para Salvador partindo de Recife. Considere a viagem de ida e volta de carro."
   ]
  },
  {
   "cell_type": "code",
   "execution_count": 26,
   "metadata": {},
   "outputs": [],
   "source": [
    "dias = int(input(\"Insira a quantidade de dias: \"))\n",
    "distancia = [850, 800, 300, 550]\n",
    "alimentacao = list(map(lambda x : x * dias, [200, 400, 250, 300]))\n",
    "gasolina = list(map(lambda x : x * 5 * 2, distancia))\n",
    "hotel = 150 * dias"
   ]
  },
  {
   "cell_type": "code",
   "execution_count": 28,
   "metadata": {},
   "outputs": [
    {
     "name": "stdout",
     "output_type": "stream",
     "text": [
      "Para Salvador o custo foi: \n",
      "Gasolina: R$8500.00\n",
      "Hotel R$450\n",
      "Alimentação: R$600.00\n",
      "Total: R$9550.00\n"
     ]
    }
   ],
   "source": [
    "print(f'Para Salvador o custo foi: \\nGasolina: R${gasolina[0]:.2f}\\nHotel R${hotel}\\nAlimentação: R${alimentacao[0]:.2f}\\nTotal: R${gasolina[0] + hotel + alimentacao[0]:.2f}')"
   ]
  },
  {
   "cell_type": "code",
   "execution_count": null,
   "metadata": {},
   "outputs": [],
   "source": [
    "dias = int(input(\"Quantas diárias? \"))\n",
    "cidade = input(\"Qual a cidade? [Salvador, Fortaleza, Natal ou Aracaju]: \")\n",
    "distancias = [850, 800, 300, 550]\n",
    "passeio = [200, 400, 250, 300]\n",
    "km_l = 14\n",
    "gasolina = 5\n",
    "\n",
    "def gasto_hotel(dias):\n",
    "    return 150 * dias\n",
    "\n",
    "def gasto_gasolina(cidade):\n",
    "    if cidade == \"Salvador\":\n",
    "        return (2 * distancias[0] * gasolina) / km_l \n",
    "    elif cidade == \"Fortaleza\":\n",
    "        return (2 * distancias[1] * gasolina) / km_l \n",
    "    elif cidade == \"Natal\":\n",
    "        return (2 * distancias[2] * gasolina) / km_l \n",
    "    elif cidade == \"Aracaju\":\n",
    "        return (2 * distancias[3] * gasolina) / km_l \n",
    "\n",
    "def gasto_passeio(cidade, dias):\n",
    "    if cidade==\"Salvador\":\n",
    "        return passeio[0] * dias\n",
    "    elif cidade==\"Fortaleza\":\n",
    "        return passeio[1] * dias\n",
    "    elif cidade==\"Natal\":\n",
    "        return passeio[2] * dias \n",
    "    elif cidade==\"Aracaju\":\n",
    "        return passeio[3] * dias \n",
    "\n",
    "gastos = gasto_hotel(dias) + gasto_gasolina(cidade) + gasto_passeio(cidade, dias)\n",
    "print(f\"Com base nos gastos definidos, uma viagem de {dias} dias para {cidade} saindo de Recife custaria {round(gastos, 2)} reais\")"
   ]
  },
  {
   "cell_type": "markdown",
   "metadata": {},
   "source": [
    "10. Você iniciou um estágio em uma empresa que trabalha com processamento de linguagem natural (NLP). Sua líder requisitou que você criasse um trecho de código que recebe uma frase digitada pela pessoa usuária e filtre apenas as palavras com tamanho maior ou igual a 5, exibindo-as em uma lista. Essa demanda é voltada para a análise do padrão de comportamento de pessoas na escrita de palavras acima dessa quantidade de caracteres.\n",
    "\n",
    "Dica: utilize as funções lambda e filter() para filtrar essas palavras. Lembrando que a função embutida filter() recebe uma função (no nosso exemplo uma função lambda) e filtra um iterável de acordo com a função. Para tratar a frase use replace() para trocar a ',' '.', '!' e '?' por espaço."
   ]
  },
  {
   "cell_type": "code",
   "execution_count": 29,
   "metadata": {},
   "outputs": [
    {
     "name": "stdout",
     "output_type": "stream",
     "text": [
      "['Aprender', 'Python', 'Alura', 'muito']\n"
     ]
    }
   ],
   "source": [
    "# Requisitando uma frase e separando-a pelos espaços. Usando replace para trocar\n",
    "# pontuações por espaço.\n",
    "frase = input(\"Digite uma frase: \")\n",
    "frase = frase.replace(',',' ').replace('.',' ').replace('!',' ').replace('?',' ').split()\n",
    "\n",
    "# Filtrando a frase no formato de lista, passando para a lista tamanho\n",
    "# apenas as palavras com 5 ou mais caracteres e imprimindo-a na tela\n",
    "tamanho = list(filter(lambda x: len(x) >= 5, frase))\n",
    "print(tamanho)"
   ]
  },
  {
   "cell_type": "markdown",
   "metadata": {},
   "source": [
    "# 03. Estrutura de Dados"
   ]
  },
  {
   "cell_type": "markdown",
   "metadata": {},
   "source": [
    "1. Crie um código para imprimir a soma dos elementos de cada uma das listas contidas na seguinte lista:\n",
    "\n",
    "lista_de_listas = [[4,6,5,9], [1,0,7,2], [3,4,1,8]]"
   ]
  },
  {
   "cell_type": "code",
   "execution_count": 2,
   "metadata": {},
   "outputs": [
    {
     "data": {
      "text/plain": [
       "[24, 10, 16]"
      ]
     },
     "execution_count": 2,
     "metadata": {},
     "output_type": "execute_result"
    }
   ],
   "source": [
    "lista_de_listas = [[4,6,5,9], [1,0,7,2], [3,4,1,8]]\n",
    "\n",
    "soma = list(map(lambda x : sum(x), lista_de_listas))\n",
    "\n",
    "soma"
   ]
  },
  {
   "cell_type": "markdown",
   "metadata": {},
   "source": [
    "2. Crie um código para gerar uma lista que armazena o terceiro elemento de cada tupla contida na seguinte lista de tuplas:\n",
    "\n",
    "lista_de_tuplas = [('Pedro', 1.74, 81), ('Júlia', 1.65, 67), ('Otávio', 1.81, 83)]"
   ]
  },
  {
   "cell_type": "code",
   "execution_count": 3,
   "metadata": {},
   "outputs": [
    {
     "data": {
      "text/plain": [
       "[26.7538644470868, 24.609733700642796, 25.33500198406642]"
      ]
     },
     "execution_count": 3,
     "metadata": {},
     "output_type": "execute_result"
    }
   ],
   "source": [
    "lista_de_tuplas = [('Pedro', 1.74, 81), ('Júlia', 1.65, 67), ('Otávio', 1.81, 83)]\n",
    "\n",
    "peso = [lista_de_tuplas[i][2] for i in range(0, len(lista_de_tuplas))]\n",
    "altura = [lista_de_tuplas[i][1] for i in range(0, len(lista_de_tuplas))]\n",
    "imc = list(map(lambda x, y : x / (y ** 2), peso, altura))\n",
    "imc"
   ]
  },
  {
   "cell_type": "markdown",
   "metadata": {},
   "source": [
    "3. A partir da lista: lista = ['Pedro', 'Júlia', 'Otávio', 'Eduardo'], crie um código para gerar uma lista de tuplas em que cada tupla tenha o primeiro elemento como a posição do nome na lista original e o segundo elemento sendo o próprio nome."
   ]
  },
  {
   "cell_type": "code",
   "execution_count": null,
   "metadata": {},
   "outputs": [],
   "source": [
    "lista = ['Pedro', 'Júlia', 'Otávio', 'Eduardo']"
   ]
  }
 ],
 "metadata": {
  "kernelspec": {
   "display_name": "Python 3",
   "language": "python",
   "name": "python3"
  },
  "language_info": {
   "codemirror_mode": {
    "name": "ipython",
    "version": 3
   },
   "file_extension": ".py",
   "mimetype": "text/x-python",
   "name": "python",
   "nbconvert_exporter": "python",
   "pygments_lexer": "ipython3",
   "version": "3.11.9"
  }
 },
 "nbformat": 4,
 "nbformat_minor": 2
}
