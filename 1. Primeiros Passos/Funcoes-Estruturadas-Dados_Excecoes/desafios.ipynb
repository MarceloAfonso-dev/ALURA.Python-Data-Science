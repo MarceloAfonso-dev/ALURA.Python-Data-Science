{
 "cells": [
  {
   "cell_type": "markdown",
   "metadata": {},
   "source": []
  },
  {
   "cell_type": "markdown",
   "metadata": {},
   "source": [
    "## Aquecimento\n"
   ]
  },
  {
   "cell_type": "markdown",
   "metadata": {},
   "source": [
    "1. Escreva um código para instalar a versão 3.7.1 da biblioteca matplotlib.\n",
    "2. Escreva um código para importar a biblioteca numpy com o alias np.\n",
    "3. Crie um programa que leia a seguinte lista de números e escolha um número desta aleatoriamente.\n",
    "\n",
    "```python\n",
    "lista = [8, 12, 54, 23, 43, 1, 90, 87, 105, 77]\n",
    "```\n",
    "\n"
   ]
  },
  {
   "cell_type": "code",
   "execution_count": 1,
   "metadata": {},
   "outputs": [
    {
     "name": "stdout",
     "output_type": "stream",
     "text": [
      "Requirement already satisfied: numpy<2.0.0 in c:\\users\\marce\\appdata\\local\\packages\\pythonsoftwarefoundation.python.3.11_qbz5n2kfra8p0\\localcache\\local-packages\\python311\\site-packages (1.26.4)Note: you may need to restart the kernel to use updated packages.\n"
     ]
    },
    {
     "name": "stderr",
     "output_type": "stream",
     "text": [
      "ERROR: Could not install packages due to an OSError: [WinError 5] Acesso negado: 'c:\\\\users\\\\marce\\\\appdata\\\\local\\\\packages\\\\pythonsoftwarefoundation.python.3.11_qbz5n2kfra8p0\\\\localcache\\\\local-packages\\\\python311\\\\site-packages\\\\matplotlib\\\\backends\\\\_backend_agg.cp311-win_amd64.pyd'\n",
      "Check the permissions.\n",
      "\n",
      "WARNING: Ignoring invalid distribution ~atplotlib (C:\\Users\\marce\\AppData\\Local\\Packages\\PythonSoftwareFoundation.Python.3.11_qbz5n2kfra8p0\\LocalCache\\local-packages\\Python311\\site-packages)\n",
      "WARNING: Ignoring invalid distribution ~atplotlib (C:\\Users\\marce\\AppData\\Local\\Packages\\PythonSoftwareFoundation.Python.3.11_qbz5n2kfra8p0\\LocalCache\\local-packages\\Python311\\site-packages)\n",
      "WARNING: Ignoring invalid distribution ~atplotlib (C:\\Users\\marce\\AppData\\Local\\Packages\\PythonSoftwareFoundation.Python.3.11_qbz5n2kfra8p0\\LocalCache\\local-packages\\Python311\\site-packages)\n",
      "\n",
      "[notice] A new release of pip is available: 24.0 -> 24.3.1\n",
      "[notice] To update, run: C:\\Users\\marce\\AppData\\Local\\Microsoft\\WindowsApps\\PythonSoftwareFoundation.Python.3.11_qbz5n2kfra8p0\\python.exe -m pip install --upgrade pip\n"
     ]
    },
    {
     "name": "stdout",
     "output_type": "stream",
     "text": [
      "\n",
      "Collecting matplotlib==3.7.1\n",
      "  Downloading matplotlib-3.7.1-cp311-cp311-win_amd64.whl.metadata (5.8 kB)\n",
      "Requirement already satisfied: contourpy>=1.0.1 in c:\\users\\marce\\appdata\\local\\packages\\pythonsoftwarefoundation.python.3.11_qbz5n2kfra8p0\\localcache\\local-packages\\python311\\site-packages (from matplotlib==3.7.1) (1.3.1)\n",
      "Requirement already satisfied: cycler>=0.10 in c:\\users\\marce\\appdata\\local\\packages\\pythonsoftwarefoundation.python.3.11_qbz5n2kfra8p0\\localcache\\local-packages\\python311\\site-packages (from matplotlib==3.7.1) (0.12.1)\n",
      "Requirement already satisfied: fonttools>=4.22.0 in c:\\users\\marce\\appdata\\local\\packages\\pythonsoftwarefoundation.python.3.11_qbz5n2kfra8p0\\localcache\\local-packages\\python311\\site-packages (from matplotlib==3.7.1) (4.55.6)\n",
      "Requirement already satisfied: kiwisolver>=1.0.1 in c:\\users\\marce\\appdata\\local\\packages\\pythonsoftwarefoundation.python.3.11_qbz5n2kfra8p0\\localcache\\local-packages\\python311\\site-packages (from matplotlib==3.7.1) (1.4.8)\n",
      "Requirement already satisfied: packaging>=20.0 in c:\\users\\marce\\appdata\\local\\packages\\pythonsoftwarefoundation.python.3.11_qbz5n2kfra8p0\\localcache\\local-packages\\python311\\site-packages (from matplotlib==3.7.1) (24.2)\n",
      "Requirement already satisfied: pillow>=6.2.0 in c:\\users\\marce\\appdata\\local\\packages\\pythonsoftwarefoundation.python.3.11_qbz5n2kfra8p0\\localcache\\local-packages\\python311\\site-packages (from matplotlib==3.7.1) (11.0.0)\n",
      "Requirement already satisfied: pyparsing>=2.3.1 in c:\\users\\marce\\appdata\\local\\packages\\pythonsoftwarefoundation.python.3.11_qbz5n2kfra8p0\\localcache\\local-packages\\python311\\site-packages (from matplotlib==3.7.1) (3.2.1)\n",
      "Requirement already satisfied: python-dateutil>=2.7 in c:\\users\\marce\\appdata\\local\\packages\\pythonsoftwarefoundation.python.3.11_qbz5n2kfra8p0\\localcache\\local-packages\\python311\\site-packages (from matplotlib==3.7.1) (2.9.0.post0)\n",
      "Requirement already satisfied: six>=1.5 in c:\\users\\marce\\appdata\\local\\packages\\pythonsoftwarefoundation.python.3.11_qbz5n2kfra8p0\\localcache\\local-packages\\python311\\site-packages (from python-dateutil>=2.7->matplotlib==3.7.1) (1.17.0)\n",
      "Downloading matplotlib-3.7.1-cp311-cp311-win_amd64.whl (7.6 MB)\n",
      "   ---------------------------------------- 0.0/7.6 MB ? eta -:--:--\n",
      "   -- ------------------------------------- 0.5/7.6 MB 16.2 MB/s eta 0:00:01\n",
      "   ----- ---------------------------------- 1.1/7.6 MB 13.8 MB/s eta 0:00:01\n",
      "   -------- ------------------------------- 1.6/7.6 MB 12.9 MB/s eta 0:00:01\n",
      "   ----------- ---------------------------- 2.2/7.6 MB 12.5 MB/s eta 0:00:01\n",
      "   -------------- ------------------------- 2.7/7.6 MB 12.3 MB/s eta 0:00:01\n",
      "   ---------------- ----------------------- 3.2/7.6 MB 12.1 MB/s eta 0:00:01\n",
      "   ------------------- -------------------- 3.8/7.6 MB 12.1 MB/s eta 0:00:01\n",
      "   ---------------------- ----------------- 4.3/7.6 MB 12.0 MB/s eta 0:00:01\n",
      "   ------------------------- -------------- 4.8/7.6 MB 12.4 MB/s eta 0:00:01\n",
      "   ---------------------------- ----------- 5.4/7.6 MB 11.9 MB/s eta 0:00:01\n",
      "   ------------------------------- -------- 5.9/7.6 MB 12.2 MB/s eta 0:00:01\n",
      "   ---------------------------------- ----- 6.5/7.6 MB 12.2 MB/s eta 0:00:01\n",
      "   ------------------------------------ --- 7.0/7.6 MB 12.1 MB/s eta 0:00:01\n",
      "   ---------------------------------------  7.6/7.6 MB 11.8 MB/s eta 0:00:01\n",
      "   ---------------------------------------  7.6/7.6 MB 11.9 MB/s eta 0:00:01\n",
      "   ---------------------------------------  7.6/7.6 MB 11.9 MB/s eta 0:00:01\n",
      "   ---------------------------------------  7.6/7.6 MB 11.9 MB/s eta 0:00:01\n",
      "   ---------------------------------------  7.6/7.6 MB 11.9 MB/s eta 0:00:01\n",
      "   ---------------------------------------  7.6/7.6 MB 11.9 MB/s eta 0:00:01\n",
      "   ---------------------------------------  7.6/7.6 MB 11.9 MB/s eta 0:00:01\n",
      "   ---------------------------------------  7.6/7.6 MB 11.9 MB/s eta 0:00:01\n",
      "   ---------------------------------------  7.6/7.6 MB 11.9 MB/s eta 0:00:01\n",
      "   ---------------------------------------  7.6/7.6 MB 11.9 MB/s eta 0:00:01\n",
      "   ---------------------------------------  7.6/7.6 MB 11.9 MB/s eta 0:00:01\n",
      "   ---------------------------------------  7.6/7.6 MB 11.9 MB/s eta 0:00:01\n",
      "   ---------------------------------------  7.6/7.6 MB 11.9 MB/s eta 0:00:01\n",
      "   ---------------------------------------  7.6/7.6 MB 11.9 MB/s eta 0:00:01\n",
      "   ---------------------------------------  7.6/7.6 MB 11.9 MB/s eta 0:00:01\n",
      "   ---------------------------------------  7.6/7.6 MB 11.9 MB/s eta 0:00:01\n",
      "   ---------------------------------------  7.6/7.6 MB 11.9 MB/s eta 0:00:01\n",
      "   ---------------------------------------  7.6/7.6 MB 11.9 MB/s eta 0:00:01\n",
      "   ---------------------------------------  7.6/7.6 MB 11.9 MB/s eta 0:00:01\n",
      "   ---------------------------------------  7.6/7.6 MB 11.9 MB/s eta 0:00:01\n",
      "   ---------------------------------------  7.6/7.6 MB 11.9 MB/s eta 0:00:01\n",
      "   ---------------------------------------  7.6/7.6 MB 11.9 MB/s eta 0:00:01\n",
      "   ---------------------------------------  7.6/7.6 MB 11.9 MB/s eta 0:00:01\n",
      "   ---------------------------------------  7.6/7.6 MB 11.9 MB/s eta 0:00:01\n",
      "   ---------------------------------------  7.6/7.6 MB 11.9 MB/s eta 0:00:01\n",
      "   ---------------------------------------  7.6/7.6 MB 11.9 MB/s eta 0:00:01\n",
      "   ---------------------------------------  7.6/7.6 MB 11.9 MB/s eta 0:00:01\n",
      "   ---------------------------------------  7.6/7.6 MB 11.9 MB/s eta 0:00:01\n",
      "   ---------------------------------------  7.6/7.6 MB 11.9 MB/s eta 0:00:01\n",
      "   ---------------------------------------  7.6/7.6 MB 11.9 MB/s eta 0:00:01\n",
      "   ---------------------------------------  7.6/7.6 MB 11.9 MB/s eta 0:00:01\n",
      "   ---------------------------------------  7.6/7.6 MB 11.9 MB/s eta 0:00:01\n",
      "   ---------------------------------------  7.6/7.6 MB 11.9 MB/s eta 0:00:01\n",
      "   ---------------------------------------  7.6/7.6 MB 11.9 MB/s eta 0:00:01\n",
      "   ---------------------------------------  7.6/7.6 MB 11.9 MB/s eta 0:00:01\n",
      "   ---------------------------------------  7.6/7.6 MB 11.9 MB/s eta 0:00:01\n",
      "   ---------------------------------------  7.6/7.6 MB 11.9 MB/s eta 0:00:01\n",
      "   ---------------------------------------  7.6/7.6 MB 11.9 MB/s eta 0:00:01\n",
      "   ---------------------------------------  7.6/7.6 MB 11.9 MB/s eta 0:00:01\n",
      "   ---------------------------------------  7.6/7.6 MB 11.9 MB/s eta 0:00:01\n",
      "   ---------------------------------------  7.6/7.6 MB 11.9 MB/s eta 0:00:01\n",
      "   ---------------------------------------  7.6/7.6 MB 11.9 MB/s eta 0:00:01\n",
      "   ---------------------------------------  7.6/7.6 MB 11.9 MB/s eta 0:00:01\n",
      "   ---------------------------------------  7.6/7.6 MB 11.9 MB/s eta 0:00:01\n",
      "   ---------------------------------------  7.6/7.6 MB 11.9 MB/s eta 0:00:01\n",
      "   ---------------------------------------  7.6/7.6 MB 11.9 MB/s eta 0:00:01\n",
      "   ---------------------------------------  7.6/7.6 MB 11.9 MB/s eta 0:00:01\n",
      "   ---------------------------------------  7.6/7.6 MB 11.9 MB/s eta 0:00:01\n",
      "   ---------------------------------------  7.6/7.6 MB 11.9 MB/s eta 0:00:01\n",
      "   ---------------------------------------  7.6/7.6 MB 11.9 MB/s eta 0:00:01\n",
      "   ---------------------------------------  7.6/7.6 MB 11.9 MB/s eta 0:00:01\n",
      "   ---------------------------------------  7.6/7.6 MB 11.9 MB/s eta 0:00:01\n",
      "   ---------------------------------------  7.6/7.6 MB 11.9 MB/s eta 0:00:01\n",
      "   ---------------------------------------- 7.6/7.6 MB 2.3 MB/s eta 0:00:00\n",
      "Installing collected packages: matplotlib\n",
      "  Attempting uninstall: matplotlib\n",
      "    Found existing installation: matplotlib 3.6.2\n",
      "    Uninstalling matplotlib-3.6.2:\n"
     ]
    }
   ],
   "source": [
    "%pip install \"numpy<2.0.0\" \"matplotlib==3.7.1\"\n"
   ]
  },
  {
   "cell_type": "code",
   "execution_count": 3,
   "metadata": {},
   "outputs": [],
   "source": [
    "import numpy as np"
   ]
  },
  {
   "cell_type": "code",
   "execution_count": 4,
   "metadata": {},
   "outputs": [],
   "source": [
    "lista = [8, 12, 54, 23, 43, 1, 90, 87, 105, 77]"
   ]
  },
  {
   "cell_type": "code",
   "execution_count": 7,
   "metadata": {},
   "outputs": [
    {
     "name": "stdout",
     "output_type": "stream",
     "text": [
      "0\n"
     ]
    }
   ],
   "source": [
    "from random import randrange\n",
    "print(randrange(5))"
   ]
  },
  {
   "cell_type": "code",
   "execution_count": 8,
   "metadata": {},
   "outputs": [],
   "source": [
    "from math import pow"
   ]
  },
  {
   "cell_type": "code",
   "execution_count": 11,
   "metadata": {},
   "outputs": [
    {
     "name": "stdout",
     "output_type": "stream",
     "text": [
      "4\n"
     ]
    }
   ],
   "source": [
    "n1 = int(input(\"Insira dois números: \"))\n",
    "n2 = int(input())\n",
    "\n",
    "print(int(pow(n1, n2)))"
   ]
  },
  {
   "cell_type": "markdown",
   "metadata": {},
   "source": [
    "<hr>"
   ]
  },
  {
   "cell_type": "markdown",
   "metadata": {},
   "source": [
    "6. Um programa deve ser escrito para sortear uma pessoa seguidora de uma rede social para ganhar um prêmio. A lista de participantes é numerada e devemos escolher aleatoriamente um número de acordo com a quantidade de participantes. Peça à pessoa usuária para fornecer o número de participantes do sorteio e devolva para ela o número sorteado.\n"
   ]
  },
  {
   "cell_type": "code",
   "execution_count": 13,
   "metadata": {},
   "outputs": [
    {
     "name": "stdout",
     "output_type": "stream",
     "text": [
      "A pessoa sorteada foi a de número 29\n"
     ]
    }
   ],
   "source": [
    "ps = int(input(\"Insira quantas pessoas serão sorteadas: \"))\n",
    "\n",
    "print(f'A pessoa sorteada foi a de número {randrange(1, ps)}')"
   ]
  },
  {
   "cell_type": "markdown",
   "metadata": {},
   "source": [
    "7. Você recebeu uma demanda para gerar números de token para acessar o aplicativo de uma empresa. O token precisa ser par e variar de 1000 até 9998. Escreva um código que solicita à pessoa usuária o seu nome e exibe uma mensagem junto a esse token gerado aleatoriamente."
   ]
  },
  {
   "cell_type": "code",
   "execution_count": 14,
   "metadata": {},
   "outputs": [
    {
     "name": "stdout",
     "output_type": "stream",
     "text": [
      "Olá, Marcelo, o seu token de acesso é 5110! Seja bem-vindo(a)!\n"
     ]
    }
   ],
   "source": [
    "nome = str(input(\"Insira o seu nome: \"))\n",
    "def token():\n",
    "    par = False\n",
    "    while par == False:\n",
    "        temp_token = randrange(1000, 9998)\n",
    "        if temp_token % 2 == 0:\n",
    "            par = True\n",
    "            return temp_token\n",
    "        else:\n",
    "            pass\n",
    "    return \n",
    "\n",
    "print(f'Olá, {nome}, o seu token de acesso é {token()}! Seja bem-vindo(a)!')"
   ]
  },
  {
   "cell_type": "markdown",
   "metadata": {},
   "source": [
    "8. Para diversificar e atrair novos(as) clientes, uma lanchonete criou um item misterioso em seu cardápio chamado \"salada de frutas surpresa\". Neste item, são escolhidas aleatoriamente 3 frutas de uma lista de 12 para compor a salada de frutas da pessoa cliente. Crie o código que faça essa seleção aleatória de acordo com a lista abaixo:"
   ]
  },
  {
   "cell_type": "code",
   "execution_count": 15,
   "metadata": {},
   "outputs": [],
   "source": [
    "frutas = [\"maçã\", \"banana\", \"uva\", \"pêra\", \n",
    "          \"manga\", \"coco\", \"melancia\", \"mamão\",\n",
    "          \"laranja\", \"abacaxi\", \"kiwi\", \"ameixa\"]"
   ]
  },
  {
   "cell_type": "code",
   "execution_count": 18,
   "metadata": {},
   "outputs": [],
   "source": [
    "def sortea_fruta():\n",
    "    salada_surpresa = []\n",
    "    for i in range(3):\n",
    "        salada_surpresa.append(frutas[randrange(0, 12)])\n",
    "    return salada_surpresa"
   ]
  },
  {
   "cell_type": "code",
   "execution_count": 20,
   "metadata": {},
   "outputs": [
    {
     "name": "stdout",
     "output_type": "stream",
     "text": [
      "As frutas sorteadas foram: banana, kiwi, pêra\n"
     ]
    }
   ],
   "source": [
    "frutas_sorteadas = sortea_fruta()\n",
    "print(f'As frutas sorteadas foram: {\", \".join(frutas_sorteadas)}')"
   ]
  },
  {
   "cell_type": "markdown",
   "metadata": {},
   "source": [
    "9. Você recebeu um desafio de calcular a raiz quadrada de uma lista de números, identificando quais resultaram em um número inteiro. A lista é a seguinte:\n",
    "\n"
   ]
  },
  {
   "cell_type": "code",
   "execution_count": 24,
   "metadata": {},
   "outputs": [],
   "source": [
    "numeros = [2, 8, 15, 23, 91, 112, 256]\n",
    "\n",
    "from math import sqrt"
   ]
  },
  {
   "cell_type": "code",
   "execution_count": 28,
   "metadata": {},
   "outputs": [],
   "source": [
    "\n",
    "def verifica_inteiro(numeros):\n",
    "    obj_numerico = {}\n",
    "    for i in range(0, len(numeros)):\n",
    "        raiz = sqrt(numeros[i])\n",
    "        if raiz // 1 == raiz:\n",
    "            obj_numerico[numeros[i]] = raiz\n",
    "        else:\n",
    "            pass\n",
    "    return obj_numerico"
   ]
  },
  {
   "cell_type": "code",
   "execution_count": 32,
   "metadata": {},
   "outputs": [
    {
     "name": "stdout",
     "output_type": "stream",
     "text": [
      "Os números inteiros são: (256, 16.0)\n"
     ]
    }
   ],
   "source": [
    "print(f'Os números inteiros são: {\", \".join(map(str, verifica_inteiro(numeros).items()))}')"
   ]
  },
  {
   "cell_type": "markdown",
   "metadata": {},
   "source": [
    "10. Faça um programa para uma loja que vende grama para jardins. Essa loja trabalha com jardins circulares e o preço do metro quadrado da grama é de R$ 25,00. Peça à pessoa usuária o raio da área circular e devolva o valor em reais do quanto precisará pagar.\n",
    "\n",
    "Dica: use a variável pi e o método pow() da biblioteca math. O cálculo da área de um círculo é de: A = π*r^2 (lê-se pi vezes raio ao quadrado)."
   ]
  },
  {
   "cell_type": "code",
   "execution_count": 33,
   "metadata": {},
   "outputs": [],
   "source": [
    "from math import pow, pi\n",
    "\n",
    "def calcular_area_circulo(raio):\n",
    "    area = pi * (raio ** 2)\n",
    "    return area"
   ]
  },
  {
   "cell_type": "code",
   "execution_count": null,
   "metadata": {},
   "outputs": [
    {
     "name": "stdout",
     "output_type": "stream",
     "text": [
      "O valor de 12.57m² ficou em R$314.16\n"
     ]
    }
   ],
   "source": [
    "raio = float(input(\"Insira o raio do círculo em metros: \"))\n",
    "area = calcular_area_circulo(raio)\n",
    "custo = area * 25\n",
    "\n",
    "print(f'O valor de {area:.2f}m² ficou em R${custo:.2f}')"
   ]
  }
 ],
 "metadata": {
  "kernelspec": {
   "display_name": "Python 3",
   "language": "python",
   "name": "python3"
  },
  "language_info": {
   "codemirror_mode": {
    "name": "ipython",
    "version": 3
   },
   "file_extension": ".py",
   "mimetype": "text/x-python",
   "name": "python",
   "nbconvert_exporter": "python",
   "pygments_lexer": "ipython3",
   "version": "3.11.9"
  }
 },
 "nbformat": 4,
 "nbformat_minor": 2
}
