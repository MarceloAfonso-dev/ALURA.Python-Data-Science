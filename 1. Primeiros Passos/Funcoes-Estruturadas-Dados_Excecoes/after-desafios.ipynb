{
 "cells": [
  {
   "cell_type": "markdown",
   "id": "26c5a788",
   "metadata": {},
   "source": [
    "Aquecimento\n",
    "1. Crie um código para imprimir a soma dos elementos de cada uma das listas contidas na seguinte lista:\n"
   ]
  },
  {
   "cell_type": "code",
   "execution_count": 4,
   "id": "c8543d04",
   "metadata": {},
   "outputs": [
    {
     "data": {
      "text/plain": [
       "[24, 10, 16]"
      ]
     },
     "execution_count": 4,
     "metadata": {},
     "output_type": "execute_result"
    }
   ],
   "source": [
    "lista_de_listas = [[4,6,5,9], [1,0,7,2], [3,4,1,8]]\n",
    "soma_notas = [sum(sublista) for sublista in lista_de_listas]\n",
    "soma_notas"
   ]
  },
  {
   "cell_type": "markdown",
   "id": "b2295a49",
   "metadata": {},
   "source": [
    "2. Crie um código para gerar uma lista que armazena o terceiro elemento de cada tupla contida na seguinte lista de tuplas:"
   ]
  },
  {
   "cell_type": "code",
   "execution_count": 6,
   "id": "f6b614ac",
   "metadata": {},
   "outputs": [
    {
     "data": {
      "text/plain": [
       "[81, 67, 83]"
      ]
     },
     "execution_count": 6,
     "metadata": {},
     "output_type": "execute_result"
    }
   ],
   "source": [
    "lista_de_tuplas = [('Pedro', 1.74, 81), ('Júlia', 1.65, 67), ('Otávio', 1.81, 83)]\n",
    "\n",
    "armazena = [lista_de_tuplas[i][2] for i in range(len(lista_de_tuplas))]\n",
    "armazena"
   ]
  },
  {
   "cell_type": "markdown",
   "id": "d0df44b6",
   "metadata": {},
   "source": [
    "3. A partir da lista: lista = ['Pedro', 'Júlia', 'Otávio', 'Eduardo'], crie um código para gerar uma lista de tuplas em que cada tupla tenha o primeiro elemento como a posição do nome na lista original e o segundo elemento sendo o próprio nome."
   ]
  },
  {
   "cell_type": "code",
   "execution_count": 8,
   "id": "ccf09211",
   "metadata": {},
   "outputs": [
    {
     "data": {
      "text/plain": [
       "[(0, 'Pedro'), (1, 'Júlia'), (2, 'Otávio'), (3, 'Eduardo')]"
      ]
     },
     "execution_count": 8,
     "metadata": {},
     "output_type": "execute_result"
    }
   ],
   "source": [
    "lista = ['Pedro', 'Júlia', 'Otávio', 'Eduardo']\n",
    "\n",
    "indice = [(i,lista[i]) for i in range(len(lista))]\n",
    "indice"
   ]
  },
  {
   "cell_type": "markdown",
   "id": "ee7507c1",
   "metadata": {},
   "source": [
    "4. Crie uma lista usando o list comprehension que armazena somente o valor numérico de cada tupla caso o primeiro elemento seja 'Apartamento', a partir da seguinte lista de tuplas:"
   ]
  },
  {
   "cell_type": "code",
   "execution_count": 10,
   "id": "6fda7444",
   "metadata": {},
   "outputs": [
    {
     "data": {
      "text/plain": [
       "[1700, 1400, 1900]"
      ]
     },
     "execution_count": 10,
     "metadata": {},
     "output_type": "execute_result"
    }
   ],
   "source": [
    "aluguel = [('Apartamento', 1700), ('Apartamento', 1400), ('Casa', 2150), ('Apartamento', 1900), ('Casa', 1100)]\n",
    "\n",
    "num_value = [aluguel[i][1] for i in range(len(aluguel)) if aluguel[i][0] == 'Apartamento']\n",
    "num_value"
   ]
  },
  {
   "cell_type": "markdown",
   "id": "df585bdf",
   "metadata": {},
   "source": [
    "5. Crie um dicionário usando o dict comprehension em que as chaves estão na lista meses = ['Jan', 'Fev', 'Mar', 'Abr', 'Mai', 'Jun', 'Jul', 'Ago', 'Set', 'Out', 'Nov', 'Dez'] e os valores estão em despesa = [860, 490, 1010, 780, 900, 630, 590, 770, 620, 560, 840, 360]."
   ]
  },
  {
   "cell_type": "code",
   "execution_count": 11,
   "id": "87cf269c",
   "metadata": {},
   "outputs": [
    {
     "data": {
      "text/plain": [
       "{'Jan': 860,\n",
       " 'Fev': 490,\n",
       " 'Mar': 1010,\n",
       " 'Abr': 780,\n",
       " 'Mai': 900,\n",
       " 'Jun': 630,\n",
       " 'Jul': 590,\n",
       " 'Ago': 770,\n",
       " 'Set': 620,\n",
       " 'Out': 560,\n",
       " 'Nov': 840,\n",
       " 'Dez': 360}"
      ]
     },
     "execution_count": 11,
     "metadata": {},
     "output_type": "execute_result"
    }
   ],
   "source": [
    "meses = ['Jan', 'Fev', 'Mar', 'Abr', 'Mai', 'Jun', 'Jul', 'Ago', 'Set', 'Out', 'Nov', 'Dez']\n",
    "despesa = [860, 490, 1010, 780, 900, 630, 590, 770, 620, 560, 840, 360]\n",
    "\n",
    "dict_despesas = {meses[i] : despesa[i] for i in range(len(meses))}\n",
    "dict_despesas"
   ]
  },
  {
   "cell_type": "markdown",
   "id": "e5b98141",
   "metadata": {},
   "source": [
    "6. Uma loja possui um banco de dados com a informação de venda de cada representante e de cada ano e precisa filtrar somente os dados do ano 2022 com venda maior do que 6000. A loja forneceu uma amostra contendo apenas as colunas com os anos e os valores de venda para que você ajude a realizar a filtragem dos dados a partir de um código:"
   ]
  },
  {
   "cell_type": "code",
   "execution_count": 13,
   "id": "4bb9a8c0",
   "metadata": {},
   "outputs": [
    {
     "data": {
      "text/plain": [
       "[('2022', 8883), ('2022', 7688), ('2022', 9544), ('2022', 8190)]"
      ]
     },
     "execution_count": 13,
     "metadata": {},
     "output_type": "execute_result"
    }
   ],
   "source": [
    "vendas = [('2023', 4093), ('2021', 4320), ('2021', 5959), ('2022', 8883), ('2023', 9859), ('2022', 5141), ('2022', 7688), ('2022', 9544), ('2023', 4794), ('2021', 7178), ('2022', 3030), ('2021', 7471), ('2022', 4226), ('2022', 8190), ('2021', 9680), ('2022', 5616)]\n",
    "\n",
    "filtro = [(vendas[i][0], vendas[i][1]) for i in range(len((vendas))) if vendas[i][0] == '2022' and vendas[i][1] > 6000]\n",
    "filtro"
   ]
  },
  {
   "cell_type": "markdown",
   "id": "018b1160",
   "metadata": {},
   "source": [
    "7. Uma clínica analisa dados de pacientes e armazena o valor numérico da glicose em um banco de dados e gostaria de rotular os dados da seguinte maneira:\n",
    "\n",
    "Glicose igual ou inferior a 70: 'Hipoglicemia'\n",
    "Glicose entre 70 a 99: 'Normal'\n",
    "Glicose entre 100 e 125: 'Alterada'\n",
    "Glicose superior a 125: 'Diabetes'\n",
    "A clínica disponibilizou parte dos valores e sua tarefa é criar uma lista de tuplas usando list comprehension contendo o rótulo e o valor da glicemia em cada tupla."
   ]
  },
  {
   "cell_type": "code",
   "execution_count": 15,
   "id": "5e7d10aa",
   "metadata": {},
   "outputs": [
    {
     "data": {
      "text/plain": [
       "[('Diabetes', 129),\n",
       " ('Normal', 82),\n",
       " ('Hipoglicemia', 60),\n",
       " ('Normal', 97),\n",
       " ('Alterada', 101),\n",
       " ('Hipoglicemia', 65),\n",
       " ('Hipoglicemia', 62),\n",
       " ('Diabetes', 167),\n",
       " ('Normal', 87),\n",
       " ('Hipoglicemia', 53),\n",
       " ('Hipoglicemia', 58),\n",
       " ('Normal', 92),\n",
       " ('Hipoglicemia', 66),\n",
       " ('Alterada', 120),\n",
       " ('Alterada', 109),\n",
       " ('Hipoglicemia', 62),\n",
       " ('Normal', 86),\n",
       " ('Normal', 96),\n",
       " ('Alterada', 103),\n",
       " ('Normal', 88),\n",
       " ('Diabetes', 155),\n",
       " ('Hipoglicemia', 52),\n",
       " ('Normal', 89),\n",
       " ('Normal', 73)]"
      ]
     },
     "execution_count": 15,
     "metadata": {},
     "output_type": "execute_result"
    }
   ],
   "source": [
    "glicemia = [129, 82, 60, 97, 101, 65, 62, 167, 87, 53, 58, 92, 66, 120, 109, 62, 86, 96, 103, 88, 155, 52, 89, 73]\n",
    "\n",
    "rotulo = lambda x: 'Hipoglicemia' if x <= 70 else 'Normal' if x <= 99 else 'Alterada' if x <= 125 else 'Diabetes'\n",
    "\n",
    "indice_glicemico = [(rotulo(valor), valor) for valor in glicemia]\n",
    "indice_glicemico"
   ]
  },
  {
   "cell_type": "markdown",
   "id": "7aa50069",
   "metadata": {},
   "source": [
    "8. Um e-commerce possui as informações de id de venda, quantidade vendida e preço do produto divididos nas seguintes listas:\n",
    "\n",
    "\n",
    "O e-commerce precisa estruturar esses dados em uma tabela contendo o valor total da venda, que é obtida multiplicando a quantidade pelo preço unitário. Além disso, a tabela precisa conter um cabeçalho indicando as colunas: 'id', 'quantidade', 'preco' e 'total'.\n",
    "\n",
    "Crie uma lista de tuplas em que cada tupla tenha id, quantidade, preço e valor total, na qual a primeira tupla é o cabeçalho da tabela."
   ]
  },
  {
   "cell_type": "code",
   "execution_count": 18,
   "id": "8a8cc853",
   "metadata": {},
   "outputs": [
    {
     "data": {
      "text/plain": [
       "[{'id': 0, 'quantidade': 15, 'preco': 93.0, 'total': 1395.0},\n",
       " {'id': 1, 'quantidade': 12, 'preco': 102.0, 'total': 1224.0},\n",
       " {'id': 2, 'quantidade': 1, 'preco': 18.0, 'total': 18.0},\n",
       " {'id': 3, 'quantidade': 15, 'preco': 41.0, 'total': 615.0},\n",
       " {'id': 4, 'quantidade': 2, 'preco': 122.0, 'total': 244.0},\n",
       " {'id': 5, 'quantidade': 11, 'preco': 14.0, 'total': 154.0},\n",
       " {'id': 6, 'quantidade': 2, 'preco': 71.0, 'total': 142.0},\n",
       " {'id': 7, 'quantidade': 12, 'preco': 48.0, 'total': 576.0},\n",
       " {'id': 8, 'quantidade': 2, 'preco': 14.0, 'total': 28.0},\n",
       " {'id': 9, 'quantidade': 4, 'preco': 144.0, 'total': 576.0}]"
      ]
     },
     "execution_count": 18,
     "metadata": {},
     "output_type": "execute_result"
    }
   ],
   "source": [
    "id = [0, 1, 2, 3, 4, 5, 6, 7, 8, 9]\n",
    "quantidade = [15, 12, 1, 15, 2, 11, 2, 12, 2, 4]\n",
    "preco = [93.0, 102.0, 18.0, 41.0, 122.0, 14.0, 71.0, 48.0, 14.0, 144.0]\n",
    "\n",
    "colunas = ['id', 'quantidade', 'preco', 'total']\n",
    "\n",
    "tabela = [dict(zip(colunas, [id[i], quantidade[i], preco[i], quantidade[i] * preco[i]])) for i in range(len(id))]\n",
    "tabela"
   ]
  },
  {
   "cell_type": "code",
   "execution_count": 19,
   "id": "18ad413d",
   "metadata": {},
   "outputs": [
    {
     "data": {
      "text/plain": [
       "[{'id': 0, 'quantidade': 15, 'preco': 93.0, 'total': 1395.0},\n",
       " {'id': 1, 'quantidade': 12, 'preco': 102.0, 'total': 1224.0},\n",
       " {'id': 2, 'quantidade': 1, 'preco': 18.0, 'total': 18.0},\n",
       " {'id': 3, 'quantidade': 15, 'preco': 41.0, 'total': 615.0},\n",
       " {'id': 4, 'quantidade': 2, 'preco': 122.0, 'total': 244.0},\n",
       " {'id': 5, 'quantidade': 11, 'preco': 14.0, 'total': 154.0},\n",
       " {'id': 6, 'quantidade': 2, 'preco': 71.0, 'total': 142.0},\n",
       " {'id': 7, 'quantidade': 12, 'preco': 48.0, 'total': 576.0},\n",
       " {'id': 8, 'quantidade': 2, 'preco': 14.0, 'total': 28.0},\n",
       " {'id': 9, 'quantidade': 4, 'preco': 144.0, 'total': 576.0}]"
      ]
     },
     "execution_count": 19,
     "metadata": {},
     "output_type": "execute_result"
    }
   ],
   "source": [
    "id = [0, 1, 2, 3, 4, 5, 6, 7, 8, 9]\n",
    "quantidade = [15, 12, 1, 15, 2, 11, 2, 12, 2, 4]\n",
    "preco = [93.0, 102.0, 18.0, 41.0, 122.0, 14.0, 71.0, 48.0, 14.0, 144.0]\n",
    "\n",
    "colunas = ['id', 'quantidade', 'preco', 'total']\n",
    "\n",
    "tabela = [dict(zip(colunas, [i, q, p, q * p])) for i, q, p in zip(id, quantidade, preco)]\n",
    "tabela"
   ]
  },
  {
   "cell_type": "code",
   "execution_count": 22,
   "id": "eda8ed4d",
   "metadata": {},
   "outputs": [
    {
     "data": {
      "text/plain": [
       "'R$4972.00'"
      ]
     },
     "execution_count": 22,
     "metadata": {},
     "output_type": "execute_result"
    }
   ],
   "source": [
    "# Extraindo apenas os valores de \"total\"\n",
    "totais = [linha['total'] for linha in tabela]\n",
    "f\"R${sum(totais):.2f}\""
   ]
  },
  {
   "cell_type": "markdown",
   "id": "068300ca",
   "metadata": {},
   "source": [
    "9. Uma empresa possui filiais espalhadas nos Estados da região Sudeste do Brasil. Em uma das tabelas de cadastro das filiais há uma coluna contendo a informação de qual é o Estado a que pertence: estados = ['SP', 'ES', 'MG', 'MG', 'SP', 'MG', 'ES', 'ES', 'ES', 'SP', 'SP', 'MG', 'ES', 'SP', 'RJ', 'MG', 'RJ', 'SP', 'MG', 'SP', 'ES', 'SP', 'MG'].\n",
    "\n",
    "A empresa sempre está abrindo novas filiais, de modo que a tabela está constantemente recebendo novos registros e o gestor gostaria de possuir a informação atualizada da quantidade de filiais em cada Estado.\n",
    "\n",
    "A partir da coluna com a informação dos Estados, crie um dicionário usando dict comprehension com a chave sendo o nome de um Estado e o valor sendo a contagem de vezes em que o Estado aparece na lista."
   ]
  },
  {
   "cell_type": "code",
   "execution_count": 25,
   "id": "b1f6286e",
   "metadata": {},
   "outputs": [
    {
     "data": {
      "text/plain": [
       "{'SP': 8, 'MG': 7, 'ES': 6, 'RJ': 2}"
      ]
     },
     "execution_count": 25,
     "metadata": {},
     "output_type": "execute_result"
    }
   ],
   "source": [
    "estados = ['SP', 'ES', 'MG', 'MG', 'SP', 'MG', 'ES', 'ES', 'ES', 'SP', 'SP', 'MG', 'ES', 'SP', 'RJ', 'MG', 'RJ', 'SP', 'MG', 'SP', 'ES', 'SP', 'MG']\n",
    "\n",
    "estados_unicos = list(set(estados))\n",
    "\n",
    "consolidada = {estado: estados.count(estado) for estado in estados_unicos}\n",
    "consolidada"
   ]
  },
  {
   "cell_type": "code",
   "execution_count": 26,
   "id": "d477e91f",
   "metadata": {},
   "outputs": [
    {
     "data": {
      "text/plain": [
       "{'SP': 8, 'ES': 6, 'MG': 7, 'RJ': 2}"
      ]
     },
     "execution_count": 26,
     "metadata": {},
     "output_type": "execute_result"
    }
   ],
   "source": [
    "from collections import Counter\n",
    "\n",
    "estados = ['SP', 'ES', 'MG', 'MG', 'SP', 'MG', 'ES', 'ES', 'ES', 'SP', 'SP', 'MG', 'ES', 'SP', 'RJ', 'MG', 'RJ', 'SP', 'MG', 'SP', 'ES', 'SP', 'MG']\n",
    "\n",
    "# Usando Counter para contar as ocorrências\n",
    "consolidada = dict(Counter(estados))\n",
    "consolidada"
   ]
  },
  {
   "cell_type": "markdown",
   "id": "87ecfae2",
   "metadata": {},
   "source": [
    "10. Nessa mesma tabela de cadastro de filiais, há uma coluna com as informações da quantidade de pessoas colaboradoras e o(a) gestor(a) gostaria de ter um agrupamento da soma dessas pessoas para cada estado. As informações contidas na tabela são:\n",
    "\n",
    "A partir da lista de tuplas, crie um dicionário em que as chaves são os nomes dos Estados únicos e os valores são as listas com o número de colaboradores(as) referentes ao Estado. Crie também um dicionário em que as chaves são os nomes dos Estados e os valores são a soma de colaboradores(as) por Estado."
   ]
  },
  {
   "cell_type": "code",
   "execution_count": 30,
   "id": "98ee0189",
   "metadata": {},
   "outputs": [
    {
     "data": {
      "text/plain": [
       "{'SP': [16, 10, 7, 11, 9, 12, 7, 10],\n",
       " 'ES': [8, 9, 7, 12, 8, 14],\n",
       " 'MG': [9, 6, 4, 8, 5, 10, 12],\n",
       " 'RJ': [13, 9]}"
      ]
     },
     "execution_count": 30,
     "metadata": {},
     "output_type": "execute_result"
    }
   ],
   "source": [
    "funcionarios = [('SP', 16), ('ES', 8), ('MG', 9), ('MG', 6), ('SP', 10), ('MG', 4), ('ES',9), ('ES', 7), ('ES', 12), ('SP', 7), ('SP', 11), ('MG',8), ('ES',8), ('SP',9), ('RJ', 13), ('MG', 5), ('RJ', 9), ('SP', 12), ('MG', 10), ('SP', 7), ('ES', 14), ('SP', 10), ('MG', 12)]\n",
    "\n",
    "# Criando um dicionário vazio para armazenar os resultados\n",
    "listas_por_estado = {}\n",
    "\n",
    "# Iterando sobre a lista de funcionários\n",
    "for estado, qtde in funcionarios:\n",
    "    if estado not in listas_por_estado:\n",
    "        listas_por_estado[estado] = []  # Inicializa a lista para o estado\n",
    "    listas_por_estado[estado].append(qtde)  # Adiciona a quantidade à lista do estado\n",
    "\n",
    "listas_por_estado"
   ]
  },
  {
   "cell_type": "code",
   "execution_count": 31,
   "id": "7838a8e8",
   "metadata": {},
   "outputs": [
    {
     "data": {
      "text/plain": [
       "{'SP': 82, 'ES': 58, 'MG': 54, 'RJ': 22}"
      ]
     },
     "execution_count": 31,
     "metadata": {},
     "output_type": "execute_result"
    }
   ],
   "source": [
    "dict_consolidado = {estado: sum(qtde) for estado, qtde in listas_por_estado.items()}\n",
    "dict_consolidado"
   ]
  }
 ],
 "metadata": {
  "kernelspec": {
   "display_name": "Python 3",
   "language": "python",
   "name": "python3"
  },
  "language_info": {
   "codemirror_mode": {
    "name": "ipython",
    "version": 3
   },
   "file_extension": ".py",
   "mimetype": "text/x-python",
   "name": "python",
   "nbconvert_exporter": "python",
   "pygments_lexer": "ipython3",
   "version": "3.11.9"
  }
 },
 "nbformat": 4,
 "nbformat_minor": 5
}
